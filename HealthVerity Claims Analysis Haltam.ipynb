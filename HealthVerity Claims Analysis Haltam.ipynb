{
 "cells": [
  {
   "cell_type": "markdown",
   "id": "3eafdb27-6f13-4e1f-a435-03caf6efdbd5",
   "metadata": {
    "tags": []
   },
   "source": [
    "## Health Verity Analysis\n",
    "## Jasmine Haltam\n",
    "\n",
    "1. This analysis leveraged GCP Cloud Storage/BigQuery, GCP Vertex AI, Python, and SQL. \n",
    "\n",
    "2. The initial Sample_Claims dataset was loaded to BigQuery with Schema matching the Table_Definitions guidelines, resulting in exclusion of 25 rows that did not meet the Schema. The final dataset was a matrix of 4,975 rows x 6 cols."
   ]
  },
  {
   "cell_type": "markdown",
   "id": "0ad059b5-d273-46cf-9173-c236ecb93ec5",
   "metadata": {},
   "source": [
    "**Question 1**\n",
    "\n",
    "**1a. What are the top 5 most common valid procedure codes?**"
   ]
  },
  {
   "cell_type": "markdown",
   "id": "88b4deb0-c6d5-4848-84f2-d60c6701a9dc",
   "metadata": {},
   "source": [
    "**1a. 88175, 87591, 87491, 87798, 85049.**"
   ]
  },
  {
   "cell_type": "code",
   "execution_count": 1,
   "id": "ed43669f-1ce1-4598-8076-4dfb45a3fa9d",
   "metadata": {},
   "outputs": [
    {
     "name": "stderr",
     "output_type": "stream",
     "text": [
      "Query complete after 0.01s: 100%|██████████| 4/4 [00:00<00:00, 1687.68query/s]                        \n",
      "Downloading: 100%|██████████| 5/5 [00:01<00:00,  4.92rows/s]\n"
     ]
    },
    {
     "data": {
      "text/html": [
       "<div>\n",
       "<style scoped>\n",
       "    .dataframe tbody tr th:only-of-type {\n",
       "        vertical-align: middle;\n",
       "    }\n",
       "\n",
       "    .dataframe tbody tr th {\n",
       "        vertical-align: top;\n",
       "    }\n",
       "\n",
       "    .dataframe thead th {\n",
       "        text-align: right;\n",
       "    }\n",
       "</style>\n",
       "<table border=\"1\" class=\"dataframe\">\n",
       "  <thead>\n",
       "    <tr style=\"text-align: right;\">\n",
       "      <th></th>\n",
       "      <th>procedure_code</th>\n",
       "    </tr>\n",
       "  </thead>\n",
       "  <tbody>\n",
       "    <tr>\n",
       "      <th>0</th>\n",
       "      <td>88175</td>\n",
       "    </tr>\n",
       "    <tr>\n",
       "      <th>1</th>\n",
       "      <td>87591</td>\n",
       "    </tr>\n",
       "    <tr>\n",
       "      <th>2</th>\n",
       "      <td>87491</td>\n",
       "    </tr>\n",
       "    <tr>\n",
       "      <th>3</th>\n",
       "      <td>87798</td>\n",
       "    </tr>\n",
       "    <tr>\n",
       "      <th>4</th>\n",
       "      <td>85049</td>\n",
       "    </tr>\n",
       "  </tbody>\n",
       "</table>\n",
       "</div>"
      ],
      "text/plain": [
       "   procedure_code\n",
       "0           88175\n",
       "1           87591\n",
       "2           87491\n",
       "3           87798\n",
       "4           85049"
      ]
     },
     "execution_count": 1,
     "metadata": {},
     "output_type": "execute_result"
    }
   ],
   "source": [
    "%%bigquery\n",
    "\n",
    "#Code for Question 1. Subquery sorts by most prevalent procedure code descending (Top 5). Returns only distinct procedure code\n",
    "\n",
    "SELECT DISTINCT procedure_code\n",
    "FROM \n",
    "(select procedure_code, COUNT(procedure_code) as total\n",
    "FROM `healthverityproject.sample_claims.notnull`\n",
    "GROUP BY procedure_code\n",
    "ORDER BY total DESC\n",
    "LIMIT 5);"
   ]
  },
  {
   "cell_type": "markdown",
   "id": "09548848-5f37-4675-9cdf-91c2f8eae8b7",
   "metadata": {},
   "source": [
    "**1b.How many patients are associated with at least one of those procedures?**\n",
    "\n",
    "**1b. 58** unique patients are associated with at least one of the procedure codes above."
   ]
  },
  {
   "cell_type": "code",
   "execution_count": 1,
   "id": "0b103abc-3510-41fe-86ed-010e19e62886",
   "metadata": {},
   "outputs": [
    {
     "name": "stderr",
     "output_type": "stream",
     "text": [
      "Query complete after 0.03s: 100%|██████████| 9/9 [00:00<00:00, 2735.02query/s]                        \n",
      "Downloading: 100%|██████████| 1/1 [00:01<00:00,  1.13s/rows]\n"
     ]
    },
    {
     "data": {
      "text/html": [
       "<div>\n",
       "<style scoped>\n",
       "    .dataframe tbody tr th:only-of-type {\n",
       "        vertical-align: middle;\n",
       "    }\n",
       "\n",
       "    .dataframe tbody tr th {\n",
       "        vertical-align: top;\n",
       "    }\n",
       "\n",
       "    .dataframe thead th {\n",
       "        text-align: right;\n",
       "    }\n",
       "</style>\n",
       "<table border=\"1\" class=\"dataframe\">\n",
       "  <thead>\n",
       "    <tr style=\"text-align: right;\">\n",
       "      <th></th>\n",
       "      <th>total_patients</th>\n",
       "    </tr>\n",
       "  </thead>\n",
       "  <tbody>\n",
       "    <tr>\n",
       "      <th>0</th>\n",
       "      <td>58</td>\n",
       "    </tr>\n",
       "  </tbody>\n",
       "</table>\n",
       "</div>"
      ],
      "text/plain": [
       "   total_patients\n",
       "0              58"
      ]
     },
     "execution_count": 1,
     "metadata": {},
     "output_type": "execute_result"
    }
   ],
   "source": [
    "%%bigquery\n",
    "\n",
    "#Query uses code above to return the distinct patients associated with top 5 procedures. \n",
    "\n",
    "SELECT COUNT (DISTINCT patient_id) as total_patients\n",
    "FROM `healthverityproject.sample_claims.notnull`\n",
    "WHERE procedure_code in (SELECT DISTINCT procedure_code\n",
    "FROM \n",
    "(select procedure_code, COUNT(procedure_code) as total\n",
    "FROM `healthverityproject.sample_claims.notnull`\n",
    "GROUP BY procedure_code\n",
    "ORDER BY total DESC\n",
    "LIMIT 5))\n",
    "ORDER BY total_patients DESC;"
   ]
  },
  {
   "cell_type": "markdown",
   "id": "70c27e03-1f99-4120-ae08-6f0dfe39842a",
   "metadata": {},
   "source": [
    "**1c. What is the percentage of records in sample_claims that have valid procedure codes?**\n",
    "\n",
    "1c. We will define valid procedure codes as non-null procedure codes that successfully join the reference table. \n",
    "\n",
    "**1c. 66.4%** of records contain a valid procedure code.\n"
   ]
  },
  {
   "cell_type": "code",
   "execution_count": 18,
   "id": "8f27c0d2-52a8-4268-a36d-555ff4a9933e",
   "metadata": {},
   "outputs": [
    {
     "name": "stderr",
     "output_type": "stream",
     "text": [
      "Query complete after 0.00s: 100%|██████████| 6/6 [00:00<00:00, 1316.89query/s]                        \n",
      "Downloading: 100%|██████████| 1/1 [00:00<00:00,  1.08rows/s]\n"
     ]
    },
    {
     "data": {
      "text/html": [
       "<div>\n",
       "<style scoped>\n",
       "    .dataframe tbody tr th:only-of-type {\n",
       "        vertical-align: middle;\n",
       "    }\n",
       "\n",
       "    .dataframe tbody tr th {\n",
       "        vertical-align: top;\n",
       "    }\n",
       "\n",
       "    .dataframe thead th {\n",
       "        text-align: right;\n",
       "    }\n",
       "</style>\n",
       "<table border=\"1\" class=\"dataframe\">\n",
       "  <thead>\n",
       "    <tr style=\"text-align: right;\">\n",
       "      <th></th>\n",
       "      <th>PercentValid</th>\n",
       "      <th>Valid_Codes</th>\n",
       "      <th>Total_Rows</th>\n",
       "    </tr>\n",
       "  </thead>\n",
       "  <tbody>\n",
       "    <tr>\n",
       "      <th>0</th>\n",
       "      <td>66.41206</td>\n",
       "      <td>3304</td>\n",
       "      <td>4975</td>\n",
       "    </tr>\n",
       "  </tbody>\n",
       "</table>\n",
       "</div>"
      ],
      "text/plain": [
       "   PercentValid  Valid_Codes  Total_Rows\n",
       "0      66.41206         3304        4975"
      ]
     },
     "execution_count": 18,
     "metadata": {},
     "output_type": "execute_result"
    }
   ],
   "source": [
    "%%bigquery\n",
    "\n",
    "##Query divides the number of records successfully joining the cpt_codes table by the total number of rows.\n",
    "SELECT (y.valid_codes/x.total_rows)*100 as PercentValid, Valid_Codes, Total_Rows\n",
    "FROM\n",
    "(SELECT COUNT(*) as Total_Rows\n",
    "FROM `healthverityproject.sampledataset5.healthverityproject_sampledataset5_sampledsetf`) x\n",
    "JOIN\n",
    "(SELECT COUNT(*) as valid_codes\n",
    "FROM healthverityproject.sampledataset5.healthverityproject_sampledataset5_sampledsetf master\n",
    " inner join healthverityproject.valid_cpt_codes.valid_cpt_codes cpt on cpt.code = master.procedure_code\n",
    "WHERE master.procedure_code IS NOT NULL) y\n",
    "on 1=1"
   ]
  },
  {
   "cell_type": "markdown",
   "id": "332c865a-b0d7-4f9f-9ae7-d98b9eb06886",
   "metadata": {},
   "source": [
    "**Question 2**\n",
    "\n",
    "**2a)What are the top 5 most common valid diagnosis codes? Note: Diagnosis code field needs to be split.**\n",
    "\n",
    "We will define valid diagnosis codes as the ICD10 codes that successfully join the reference ICD10 table. \n",
    "\n",
    "**2a) Z11, Z34, Z01, E55, Z12.**"
   ]
  },
  {
   "cell_type": "code",
   "execution_count": 27,
   "id": "39af6da6-dbf7-406f-86eb-3e24b3f4f91b",
   "metadata": {},
   "outputs": [
    {
     "name": "stderr",
     "output_type": "stream",
     "text": [
      "Query complete after 0.01s: 100%|██████████| 3/3 [00:00<00:00, 1300.83query/s]                        \n"
     ]
    },
    {
     "data": {
      "text/html": [
       "<div>\n",
       "<style scoped>\n",
       "    .dataframe tbody tr th:only-of-type {\n",
       "        vertical-align: middle;\n",
       "    }\n",
       "\n",
       "    .dataframe tbody tr th {\n",
       "        vertical-align: top;\n",
       "    }\n",
       "\n",
       "    .dataframe thead th {\n",
       "        text-align: right;\n",
       "    }\n",
       "</style>\n",
       "<table border=\"1\" class=\"dataframe\">\n",
       "  <thead>\n",
       "    <tr style=\"text-align: right;\">\n",
       "      <th></th>\n",
       "    </tr>\n",
       "  </thead>\n",
       "  <tbody>\n",
       "  </tbody>\n",
       "</table>\n",
       "</div>"
      ],
      "text/plain": [
       "Empty DataFrame\n",
       "Columns: []\n",
       "Index: []"
      ]
     },
     "execution_count": 27,
     "metadata": {},
     "output_type": "execute_result"
    }
   ],
   "source": [
    "%%bigquery\n",
    "##First, we unnest diagnosis codes by '^' delimiter. \n",
    "##We use regex to split to the period to allow us to join to the reference ICD10 table. \n",
    "##Alternative solutions included potentially adding a period after the first 3 characters in the reference ICD10 table.  \n",
    "\n",
    "CREATE TABLE healthverityproject.sampledataset5.extracted_icd as (\n",
    "WITH data AS \n",
    "  (SELECT diagnosis_codes\n",
    "  FROM healthverityproject.sampledataset5.healthverityproject_sampledataset5_sampledsetf)\n",
    "\n",
    "SELECT diagnosis_codes, substrings, REGEXP_EXTRACT(substrings, r'^[^\\.]+') as substrings_simplified\n",
    "FROM data, UNNEST(SPLIT(diagnosis_codes, '^')) substrings)\n"
   ]
  },
  {
   "cell_type": "code",
   "execution_count": 34,
   "id": "45e7e916-db33-4ad2-8318-6ba687f167df",
   "metadata": {},
   "outputs": [
    {
     "name": "stderr",
     "output_type": "stream",
     "text": [
      "Query complete after 0.00s: 100%|██████████| 4/4 [00:00<00:00, 1880.01query/s]                        \n",
      "Downloading: 100%|██████████| 5/5 [00:00<00:00,  5.17rows/s]\n"
     ]
    },
    {
     "data": {
      "text/html": [
       "<div>\n",
       "<style scoped>\n",
       "    .dataframe tbody tr th:only-of-type {\n",
       "        vertical-align: middle;\n",
       "    }\n",
       "\n",
       "    .dataframe tbody tr th {\n",
       "        vertical-align: top;\n",
       "    }\n",
       "\n",
       "    .dataframe thead th {\n",
       "        text-align: right;\n",
       "    }\n",
       "</style>\n",
       "<table border=\"1\" class=\"dataframe\">\n",
       "  <thead>\n",
       "    <tr style=\"text-align: right;\">\n",
       "      <th></th>\n",
       "      <th>substrings_simplified</th>\n",
       "      <th>total</th>\n",
       "    </tr>\n",
       "  </thead>\n",
       "  <tbody>\n",
       "    <tr>\n",
       "      <th>0</th>\n",
       "      <td>Z11</td>\n",
       "      <td>1466</td>\n",
       "    </tr>\n",
       "    <tr>\n",
       "      <th>1</th>\n",
       "      <td>Z34</td>\n",
       "      <td>855</td>\n",
       "    </tr>\n",
       "    <tr>\n",
       "      <th>2</th>\n",
       "      <td>Z01</td>\n",
       "      <td>525</td>\n",
       "    </tr>\n",
       "    <tr>\n",
       "      <th>3</th>\n",
       "      <td>E55</td>\n",
       "      <td>494</td>\n",
       "    </tr>\n",
       "    <tr>\n",
       "      <th>4</th>\n",
       "      <td>Z12</td>\n",
       "      <td>427</td>\n",
       "    </tr>\n",
       "  </tbody>\n",
       "</table>\n",
       "</div>"
      ],
      "text/plain": [
       "  substrings_simplified  total\n",
       "0                   Z11   1466\n",
       "1                   Z34    855\n",
       "2                   Z01    525\n",
       "3                   E55    494\n",
       "4                   Z12    427"
      ]
     },
     "execution_count": 34,
     "metadata": {},
     "output_type": "execute_result"
    }
   ],
   "source": [
    "%%bigquery\n",
    "##Return the top 5 most common valid ICD codes that match the icd_10_codes reference table after cleanup above. \n",
    "\n",
    "SELECT substrings_simplified, COUNT(substrings_simplified) as total ##return count of substrings grouped by substring. \n",
    "from healthverityproject.sampledataset5.extracted_icd as original\n",
    "inner JOIN healthverityproject.icd10codes.icd_10_codes as n ##use inner join to filter unmatched values. \n",
    "ON original.substrings_simplified = n.string_field_0\n",
    "where substrings_simplified is not null ##filter any null substrings_simplified_values\n",
    "GROUP BY substrings_simplified\n",
    "ORDER BY total DESC\n",
    "LIMIT 5; ##limit to only the top 5 most frequent, valid diagnosis codes. "
   ]
  },
  {
   "cell_type": "markdown",
   "id": "b102e4d8-7d9e-4735-86b5-33277ee29262",
   "metadata": {},
   "source": [
    "**Question 2b. What are the top 5 invalid diagnosis codes? With and without special characters removed.**\n",
    "\n",
    "**2b. With special character removed:** Z86, Z87, Z91. \n",
    "\n",
    "**2b. Without special character removed (after join):** Z86.718, Z87.59, Z87.898, Z87.440, Z91.89. \n",
    "\n",
    "**2b. Without special character removed (pre-join):** Z11.3, E55.9, Z01.419, Z11.8, Z34.81. "
   ]
  },
  {
   "cell_type": "code",
   "execution_count": 37,
   "id": "fc0c5517-59f7-4087-977b-89d66128364a",
   "metadata": {},
   "outputs": [
    {
     "name": "stderr",
     "output_type": "stream",
     "text": [
      "Query complete after 0.00s: 100%|██████████| 4/4 [00:00<00:00, 1566.94query/s]                        \n",
      "Downloading: 100%|██████████| 3/3 [00:00<00:00,  3.16rows/s]\n"
     ]
    },
    {
     "data": {
      "text/html": [
       "<div>\n",
       "<style scoped>\n",
       "    .dataframe tbody tr th:only-of-type {\n",
       "        vertical-align: middle;\n",
       "    }\n",
       "\n",
       "    .dataframe tbody tr th {\n",
       "        vertical-align: top;\n",
       "    }\n",
       "\n",
       "    .dataframe thead th {\n",
       "        text-align: right;\n",
       "    }\n",
       "</style>\n",
       "<table border=\"1\" class=\"dataframe\">\n",
       "  <thead>\n",
       "    <tr style=\"text-align: right;\">\n",
       "      <th></th>\n",
       "      <th>substrings_simplified</th>\n",
       "      <th>total</th>\n",
       "    </tr>\n",
       "  </thead>\n",
       "  <tbody>\n",
       "    <tr>\n",
       "      <th>0</th>\n",
       "      <td>Z86</td>\n",
       "      <td>32</td>\n",
       "    </tr>\n",
       "    <tr>\n",
       "      <th>1</th>\n",
       "      <td>Z87</td>\n",
       "      <td>23</td>\n",
       "    </tr>\n",
       "    <tr>\n",
       "      <th>2</th>\n",
       "      <td>Z91</td>\n",
       "      <td>1</td>\n",
       "    </tr>\n",
       "  </tbody>\n",
       "</table>\n",
       "</div>"
      ],
      "text/plain": [
       "  substrings_simplified  total\n",
       "0                   Z86     32\n",
       "1                   Z87     23\n",
       "2                   Z91      1"
      ]
     },
     "execution_count": 37,
     "metadata": {},
     "output_type": "execute_result"
    }
   ],
   "source": [
    "%%bigquery\n",
    "##With the special character \".\" removed, return the top invalid ICD10 codes that do not join the reference table. \n",
    "\n",
    "SELECT substrings_simplified, COUNT(substrings_simplified) as total ##return count of substrings grouped by simplified substring with special char removed. \n",
    "from healthverityproject.sampledataset5.extracted_icd as original\n",
    "left JOIN healthverityproject.icd10codes.icd_10_codes as n ##use left join to return everything \n",
    "ON original.substrings_simplified = n.string_field_0\n",
    "where string_field_0 is null ##filter to return only the invalid ICD10 values\n",
    "GROUP BY substrings_simplified\n",
    "ORDER BY total DESC\n",
    "LIMIT 5;"
   ]
  },
  {
   "cell_type": "code",
   "execution_count": 45,
   "id": "f5f2d462-8f43-4298-94c5-014d28c68137",
   "metadata": {},
   "outputs": [
    {
     "name": "stderr",
     "output_type": "stream",
     "text": [
      "Query complete after 0.00s: 100%|██████████| 4/4 [00:00<00:00, 1457.87query/s]                        \n",
      "Downloading: 100%|██████████| 5/5 [00:00<00:00,  5.39rows/s]\n"
     ]
    },
    {
     "data": {
      "text/html": [
       "<div>\n",
       "<style scoped>\n",
       "    .dataframe tbody tr th:only-of-type {\n",
       "        vertical-align: middle;\n",
       "    }\n",
       "\n",
       "    .dataframe tbody tr th {\n",
       "        vertical-align: top;\n",
       "    }\n",
       "\n",
       "    .dataframe thead th {\n",
       "        text-align: right;\n",
       "    }\n",
       "</style>\n",
       "<table border=\"1\" class=\"dataframe\">\n",
       "  <thead>\n",
       "    <tr style=\"text-align: right;\">\n",
       "      <th></th>\n",
       "      <th>substrings</th>\n",
       "      <th>substrings_simplified</th>\n",
       "      <th>total</th>\n",
       "    </tr>\n",
       "  </thead>\n",
       "  <tbody>\n",
       "    <tr>\n",
       "      <th>0</th>\n",
       "      <td>Z86.718</td>\n",
       "      <td>Z86</td>\n",
       "      <td>32</td>\n",
       "    </tr>\n",
       "    <tr>\n",
       "      <th>1</th>\n",
       "      <td>Z87.59</td>\n",
       "      <td>Z87</td>\n",
       "      <td>17</td>\n",
       "    </tr>\n",
       "    <tr>\n",
       "      <th>2</th>\n",
       "      <td>Z87.898</td>\n",
       "      <td>Z87</td>\n",
       "      <td>5</td>\n",
       "    </tr>\n",
       "    <tr>\n",
       "      <th>3</th>\n",
       "      <td>Z91.89</td>\n",
       "      <td>Z91</td>\n",
       "      <td>1</td>\n",
       "    </tr>\n",
       "    <tr>\n",
       "      <th>4</th>\n",
       "      <td>Z87.440</td>\n",
       "      <td>Z87</td>\n",
       "      <td>1</td>\n",
       "    </tr>\n",
       "  </tbody>\n",
       "</table>\n",
       "</div>"
      ],
      "text/plain": [
       "  substrings substrings_simplified  total\n",
       "0    Z86.718                   Z86     32\n",
       "1     Z87.59                   Z87     17\n",
       "2    Z87.898                   Z87      5\n",
       "3     Z91.89                   Z91      1\n",
       "4    Z87.440                   Z87      1"
      ]
     },
     "execution_count": 45,
     "metadata": {},
     "output_type": "execute_result"
    }
   ],
   "source": [
    "%%bigquery\n",
    "##Returning the invalid codes without their special character removed in the final output. \n",
    "#Note that to successfully join, the period needed to be removed pre-join.  \n",
    "\n",
    "SELECT substrings, substrings_simplified, COUNT(substrings) as total ##return count of substrings grouped by substring. \n",
    "from healthverityproject.sampledataset5.extracted_icd as original\n",
    "left JOIN healthverityproject.icd10codes.icd_10_codes as n ##use left join to return everything \n",
    "ON original.substrings_simplified = n.string_field_0\n",
    "where string_field_0 is null ##filter to return only the invalid ICD10 values\n",
    "GROUP BY substrings_simplified, substrings\n",
    "ORDER BY total DESC\n",
    "LIMIT 5;"
   ]
  },
  {
   "cell_type": "code",
   "execution_count": 44,
   "id": "6294c1ac-756b-42d0-aa65-af592bc94e4b",
   "metadata": {},
   "outputs": [
    {
     "name": "stderr",
     "output_type": "stream",
     "text": [
      "Query complete after 0.00s: 100%|██████████| 1/1 [00:00<00:00, 872.90query/s] \n",
      "Downloading: 100%|██████████| 5/5 [00:01<00:00,  4.94rows/s]\n"
     ]
    },
    {
     "data": {
      "text/html": [
       "<div>\n",
       "<style scoped>\n",
       "    .dataframe tbody tr th:only-of-type {\n",
       "        vertical-align: middle;\n",
       "    }\n",
       "\n",
       "    .dataframe tbody tr th {\n",
       "        vertical-align: top;\n",
       "    }\n",
       "\n",
       "    .dataframe thead th {\n",
       "        text-align: right;\n",
       "    }\n",
       "</style>\n",
       "<table border=\"1\" class=\"dataframe\">\n",
       "  <thead>\n",
       "    <tr style=\"text-align: right;\">\n",
       "      <th></th>\n",
       "      <th>substrings</th>\n",
       "      <th>substrings_simplified</th>\n",
       "      <th>total</th>\n",
       "    </tr>\n",
       "  </thead>\n",
       "  <tbody>\n",
       "    <tr>\n",
       "      <th>0</th>\n",
       "      <td>Z11.3</td>\n",
       "      <td>Z11</td>\n",
       "      <td>942</td>\n",
       "    </tr>\n",
       "    <tr>\n",
       "      <th>1</th>\n",
       "      <td>E55.9</td>\n",
       "      <td>E55</td>\n",
       "      <td>494</td>\n",
       "    </tr>\n",
       "    <tr>\n",
       "      <th>2</th>\n",
       "      <td>Z01.419</td>\n",
       "      <td>Z01</td>\n",
       "      <td>403</td>\n",
       "    </tr>\n",
       "    <tr>\n",
       "      <th>3</th>\n",
       "      <td>Z11.8</td>\n",
       "      <td>Z11</td>\n",
       "      <td>357</td>\n",
       "    </tr>\n",
       "    <tr>\n",
       "      <th>4</th>\n",
       "      <td>Z34.81</td>\n",
       "      <td>Z34</td>\n",
       "      <td>346</td>\n",
       "    </tr>\n",
       "  </tbody>\n",
       "</table>\n",
       "</div>"
      ],
      "text/plain": [
       "  substrings substrings_simplified  total\n",
       "0      Z11.3                   Z11    942\n",
       "1      E55.9                   E55    494\n",
       "2    Z01.419                   Z01    403\n",
       "3      Z11.8                   Z11    357\n",
       "4     Z34.81                   Z34    346"
      ]
     },
     "execution_count": 44,
     "metadata": {},
     "output_type": "execute_result"
    }
   ],
   "source": [
    "%%bigquery\n",
    "##Without the special character \".\" removed, return the top invalid ICD10 codes that do not join the reference table. \n",
    "##None of these codes should join, as the reference table does not contain periods in its values. \n",
    "\n",
    "SELECT substrings, substrings_simplified, COUNT(substrings) as total ##return count of substrings grouped by substring. \n",
    "from healthverityproject.sampledataset5.extracted_icd as original\n",
    "left JOIN healthverityproject.icd10codes.icd_10_codes as n ##use left join to return everything \n",
    "ON original.substrings = n.string_field_0\n",
    "where string_field_0 is null ##filter to return only the invalid ICD10 values\n",
    "GROUP BY substrings_simplified, substrings\n",
    "ORDER BY total DESC\n",
    "LIMIT 5;"
   ]
  },
  {
   "cell_type": "markdown",
   "id": "45b05bc9-7422-4ad4-874c-91bc4ced44b5",
   "metadata": {},
   "source": [
    "**Question 2c. What is the percentage of records in sample_claims that have valid  diagnosis codes after split and with special characters removed?**\n",
    "\n",
    "Note that sample_claims, after splitting the diagnosis codes, has 10,064 rows. \n",
    "\n",
    "**2c. 99.4%, or 10,008 records with ICD codes,** successfully join the ICD10 reference table."
   ]
  },
  {
   "cell_type": "code",
   "execution_count": 52,
   "id": "b08cb29f-e88c-4ad3-b0f1-bf21662da8d9",
   "metadata": {},
   "outputs": [
    {
     "name": "stderr",
     "output_type": "stream",
     "text": [
      "Query complete after 0.00s: 100%|██████████| 6/6 [00:00<00:00, 2078.79query/s]                        \n",
      "Downloading: 100%|██████████| 1/1 [00:00<00:00,  1.02rows/s]\n"
     ]
    },
    {
     "data": {
      "text/html": [
       "<div>\n",
       "<style scoped>\n",
       "    .dataframe tbody tr th:only-of-type {\n",
       "        vertical-align: middle;\n",
       "    }\n",
       "\n",
       "    .dataframe tbody tr th {\n",
       "        vertical-align: top;\n",
       "    }\n",
       "\n",
       "    .dataframe thead th {\n",
       "        text-align: right;\n",
       "    }\n",
       "</style>\n",
       "<table border=\"1\" class=\"dataframe\">\n",
       "  <thead>\n",
       "    <tr style=\"text-align: right;\">\n",
       "      <th></th>\n",
       "      <th>PercentValid</th>\n",
       "      <th>Valid_Codes</th>\n",
       "      <th>Total_Rows</th>\n",
       "    </tr>\n",
       "  </thead>\n",
       "  <tbody>\n",
       "    <tr>\n",
       "      <th>0</th>\n",
       "      <td>99.443561</td>\n",
       "      <td>10008</td>\n",
       "      <td>10064</td>\n",
       "    </tr>\n",
       "  </tbody>\n",
       "</table>\n",
       "</div>"
      ],
      "text/plain": [
       "   PercentValid  Valid_Codes  Total_Rows\n",
       "0     99.443561        10008       10064"
      ]
     },
     "execution_count": 52,
     "metadata": {},
     "output_type": "execute_result"
    }
   ],
   "source": [
    "%%bigquery\n",
    "SELECT (x.valid_codes/y.total_rows)*100 as PercentValid, Valid_Codes, Total_Rows\n",
    "FROM\n",
    "(SELECT COUNT(*) as Valid_Codes\n",
    "FROM healthverityproject.sampledataset5.extracted_icd extracted\n",
    " inner JOIN healthverityproject.icd10codes.icd_10_codes as n ##use inner join to filter unmatched values. \n",
    "ON extracted.substrings_simplified = n.string_field_0\n",
    "where substrings_simplified is not null) x ##added filter\n",
    "JOIN\n",
    "(select count(*) as total_rows from \n",
    "healthverityproject.sampledataset5.extracted_icd) y\n",
    "on 1=1"
   ]
  },
  {
   "cell_type": "markdown",
   "id": "d5d58142-f2ac-4ce6-8e8d-6f16499c721e",
   "metadata": {},
   "source": [
    "**Question 3.**\n",
    "\n",
    "\n",
    "Using the TableDefinitions provided and sample files, please write at least 1 data quality\n",
    "validation for each category below. Minimum 5 and no more than 10 validations required.\n",
    "\n",
    "**1.Formatting**\n",
    "\n",
    "**2.Duplicates**\n",
    "\n",
    "**3.Missing values**\n",
    "\n",
    "**4.Referential**\n",
    "\n",
    "**5.Date Distribution (trend in chronological order)**"
   ]
  },
  {
   "cell_type": "markdown",
   "id": "155890c3-eaa2-4360-b903-513bd69e76e6",
   "metadata": {},
   "source": [
    "**1. Formatting - Date Format Validation**"
   ]
  },
  {
   "cell_type": "code",
   "execution_count": 83,
   "id": "4861db94-b414-4e2f-961a-f19c9119902e",
   "metadata": {},
   "outputs": [
    {
     "name": "stderr",
     "output_type": "stream",
     "text": [
      "Query complete after 0.00s: 100%|██████████| 1/1 [00:00<00:00, 711.38query/s] \n",
      "Downloading: 100%|██████████| 1/1 [00:00<00:00,  1.09rows/s]\n"
     ]
    },
    {
     "data": {
      "text/html": [
       "<div>\n",
       "<style scoped>\n",
       "    .dataframe tbody tr th:only-of-type {\n",
       "        vertical-align: middle;\n",
       "    }\n",
       "\n",
       "    .dataframe tbody tr th {\n",
       "        vertical-align: top;\n",
       "    }\n",
       "\n",
       "    .dataframe thead th {\n",
       "        text-align: right;\n",
       "    }\n",
       "</style>\n",
       "<table border=\"1\" class=\"dataframe\">\n",
       "  <thead>\n",
       "    <tr style=\"text-align: right;\">\n",
       "      <th></th>\n",
       "      <th>Validation_Message</th>\n",
       "    </tr>\n",
       "  </thead>\n",
       "  <tbody>\n",
       "    <tr>\n",
       "      <th>0</th>\n",
       "      <td>Validation Error: File fails date formatting.</td>\n",
       "    </tr>\n",
       "  </tbody>\n",
       "</table>\n",
       "</div>"
      ],
      "text/plain": [
       "                              Validation_Message\n",
       "0  Validation Error: File fails date formatting."
      ]
     },
     "execution_count": 83,
     "metadata": {},
     "output_type": "execute_result"
    }
   ],
   "source": [
    "%%bigquery\n",
    "WITH query_result AS (\n",
    "SELECT * FROM healthverityproject.sampledataset5.healthverityproject_sampledataset5_sampledsetf\n",
    "WHERE PARSE_DATE('%Y-%d-%m', FORMAT_DATE('%Y-%d-%m', date_service)) IS NULL)\n",
    "SELECT \n",
    " IF(COUNT(*) > 0, 'Validation Error: File fails date formatting.', 'Validation Pass: File passes date formatting validation.') as Validation_Message from query_result\n"
   ]
  },
  {
   "cell_type": "markdown",
   "id": "c67257f6-bed6-4fdf-87a6-f304f3628b61",
   "metadata": {},
   "source": [
    "**2. Duplicates - Overall Duplicate Entry Validation**"
   ]
  },
  {
   "cell_type": "code",
   "execution_count": 94,
   "id": "2984e5a2-d40e-4d24-a361-b47b47a9f854",
   "metadata": {},
   "outputs": [
    {
     "name": "stderr",
     "output_type": "stream",
     "text": [
      "Query complete after 0.00s: 100%|██████████| 1/1 [00:00<00:00, 645.38query/s] \n",
      "Downloading: 100%|██████████| 1/1 [00:00<00:00,  1.01rows/s]\n"
     ]
    },
    {
     "data": {
      "text/html": [
       "<div>\n",
       "<style scoped>\n",
       "    .dataframe tbody tr th:only-of-type {\n",
       "        vertical-align: middle;\n",
       "    }\n",
       "\n",
       "    .dataframe tbody tr th {\n",
       "        vertical-align: top;\n",
       "    }\n",
       "\n",
       "    .dataframe thead th {\n",
       "        text-align: right;\n",
       "    }\n",
       "</style>\n",
       "<table border=\"1\" class=\"dataframe\">\n",
       "  <thead>\n",
       "    <tr style=\"text-align: right;\">\n",
       "      <th></th>\n",
       "      <th>Validation_Message</th>\n",
       "    </tr>\n",
       "  </thead>\n",
       "  <tbody>\n",
       "    <tr>\n",
       "      <th>0</th>\n",
       "      <td>Validation Pass: No duplicate rows.</td>\n",
       "    </tr>\n",
       "  </tbody>\n",
       "</table>\n",
       "</div>"
      ],
      "text/plain": [
       "                    Validation_Message\n",
       "0  Validation Pass: No duplicate rows."
      ]
     },
     "execution_count": 94,
     "metadata": {},
     "output_type": "execute_result"
    }
   ],
   "source": [
    "%%bigquery\n",
    "WITH query_result AS (SELECT patient_id,claim_id,diagnosis_codes,procedure_code,date_service,date_received,count(*)\n",
    "FROM healthverityproject.sampledataset5.healthverityproject_sampledataset5_sampledsetf\n",
    "GROUP BY patient_id,claim_id,diagnosis_codes,procedure_code,date_service,date_received \n",
    "HAVING count(*) > 1)\n",
    "\n",
    "SELECT \n",
    " IF(COUNT(*) > 0, 'Validation Error: File contains duplicate rows.', 'Validation Pass: No duplicate rows.') as Validation_Message from query_result"
   ]
  },
  {
   "cell_type": "markdown",
   "id": "e68f251a-7866-447f-aae2-df9c0dc386db",
   "metadata": {},
   "source": [
    "**Duplicates - Claim ID Validation**"
   ]
  },
  {
   "cell_type": "code",
   "execution_count": 96,
   "id": "53662592-2068-4eb0-9d9e-41d051b1e599",
   "metadata": {},
   "outputs": [
    {
     "name": "stderr",
     "output_type": "stream",
     "text": [
      "Query complete after 0.00s: 100%|██████████| 3/3 [00:00<00:00, 1281.36query/s]                        \n",
      "Downloading: 100%|██████████| 1/1 [00:00<00:00,  1.05rows/s]\n"
     ]
    },
    {
     "data": {
      "text/html": [
       "<div>\n",
       "<style scoped>\n",
       "    .dataframe tbody tr th:only-of-type {\n",
       "        vertical-align: middle;\n",
       "    }\n",
       "\n",
       "    .dataframe tbody tr th {\n",
       "        vertical-align: top;\n",
       "    }\n",
       "\n",
       "    .dataframe thead th {\n",
       "        text-align: right;\n",
       "    }\n",
       "</style>\n",
       "<table border=\"1\" class=\"dataframe\">\n",
       "  <thead>\n",
       "    <tr style=\"text-align: right;\">\n",
       "      <th></th>\n",
       "      <th>Validation_Message</th>\n",
       "    </tr>\n",
       "  </thead>\n",
       "  <tbody>\n",
       "    <tr>\n",
       "      <th>0</th>\n",
       "      <td>Validation Error: Duplicated Claim IDs.</td>\n",
       "    </tr>\n",
       "  </tbody>\n",
       "</table>\n",
       "</div>"
      ],
      "text/plain": [
       "                        Validation_Message\n",
       "0  Validation Error: Duplicated Claim IDs."
      ]
     },
     "execution_count": 96,
     "metadata": {},
     "output_type": "execute_result"
    }
   ],
   "source": [
    "%%bigquery\n",
    "WITH query_result AS (WITH duplicate_rows AS (\n",
    "  SELECT claim_id, \n",
    "    ROW_NUMBER() OVER (PARTITION BY claim_id ORDER BY claim_id) as row_number ##Ranks claim IDs. If duplicate, row_number > 1. \n",
    "  FROM healthverityproject.sampledataset5.healthverityproject_sampledataset5_sampledsetf)\n",
    "\n",
    "SELECT claim_id\n",
    "FROM duplicate_rows\n",
    "WHERE row_number > 1) ##Filter to return duplicate claim ID values. \n",
    "\n",
    "SELECT  IF(COUNT(*) > 0, 'Validation Error: Duplicated Claim IDs.', 'Validation Pass: File has no duplicates.') as Validation_Message from query_result"
   ]
  },
  {
   "cell_type": "markdown",
   "id": "992569f5-c9bc-4749-9172-60b96408c9e3",
   "metadata": {},
   "source": [
    "**3.Missing values - ICD 10 Code Validation**"
   ]
  },
  {
   "cell_type": "code",
   "execution_count": 97,
   "id": "9a5e5801-e029-40dd-b806-39c8fb519bd1",
   "metadata": {},
   "outputs": [
    {
     "name": "stderr",
     "output_type": "stream",
     "text": [
      "Query complete after 0.00s: 100%|██████████| 2/2 [00:00<00:00, 661.46query/s]                         \n",
      "Downloading: 100%|██████████| 1/1 [00:01<00:00,  1.02s/rows]\n"
     ]
    },
    {
     "data": {
      "text/html": [
       "<div>\n",
       "<style scoped>\n",
       "    .dataframe tbody tr th:only-of-type {\n",
       "        vertical-align: middle;\n",
       "    }\n",
       "\n",
       "    .dataframe tbody tr th {\n",
       "        vertical-align: top;\n",
       "    }\n",
       "\n",
       "    .dataframe thead th {\n",
       "        text-align: right;\n",
       "    }\n",
       "</style>\n",
       "<table border=\"1\" class=\"dataframe\">\n",
       "  <thead>\n",
       "    <tr style=\"text-align: right;\">\n",
       "      <th></th>\n",
       "      <th>Validation_Message</th>\n",
       "    </tr>\n",
       "  </thead>\n",
       "  <tbody>\n",
       "    <tr>\n",
       "      <th>0</th>\n",
       "      <td>Validation Error: Missing ICD10 Codes.</td>\n",
       "    </tr>\n",
       "  </tbody>\n",
       "</table>\n",
       "</div>"
      ],
      "text/plain": [
       "                       Validation_Message\n",
       "0  Validation Error: Missing ICD10 Codes."
      ]
     },
     "execution_count": 97,
     "metadata": {},
     "output_type": "execute_result"
    }
   ],
   "source": [
    "%%bigquery\n",
    "WITH query_result AS (SELECT * \n",
    "FROM healthverityproject.sampledataset5.healthverityproject_sampledataset5_sampledsetf\n",
    "WHERE diagnosis_codes IS NULL)\n",
    "##Filter for null diagnosis codes, if > 0, return validation error. \n",
    "SELECT \n",
    " IF(COUNT(*) > 0, 'Validation Error: Missing ICD10 Codes.', 'Validation Pass: File has no missing values.') as Validation_Message from query_result\n"
   ]
  },
  {
   "cell_type": "markdown",
   "id": "5b6cc313-f7fd-4972-954b-4ea0bd035ea8",
   "metadata": {},
   "source": [
    "**Missing values - Patient ID Validation**"
   ]
  },
  {
   "cell_type": "code",
   "execution_count": 98,
   "id": "f291d947-564d-4303-8f46-50fb1a605291",
   "metadata": {},
   "outputs": [
    {
     "name": "stderr",
     "output_type": "stream",
     "text": [
      "Query complete after 0.00s: 100%|██████████| 2/2 [00:00<00:00, 971.80query/s]                         \n",
      "Downloading: 100%|██████████| 1/1 [00:00<00:00,  1.06rows/s]\n"
     ]
    },
    {
     "data": {
      "text/html": [
       "<div>\n",
       "<style scoped>\n",
       "    .dataframe tbody tr th:only-of-type {\n",
       "        vertical-align: middle;\n",
       "    }\n",
       "\n",
       "    .dataframe tbody tr th {\n",
       "        vertical-align: top;\n",
       "    }\n",
       "\n",
       "    .dataframe thead th {\n",
       "        text-align: right;\n",
       "    }\n",
       "</style>\n",
       "<table border=\"1\" class=\"dataframe\">\n",
       "  <thead>\n",
       "    <tr style=\"text-align: right;\">\n",
       "      <th></th>\n",
       "      <th>Validation_Message</th>\n",
       "    </tr>\n",
       "  </thead>\n",
       "  <tbody>\n",
       "    <tr>\n",
       "      <th>0</th>\n",
       "      <td>Validation Error: Missing Patient IDs.</td>\n",
       "    </tr>\n",
       "  </tbody>\n",
       "</table>\n",
       "</div>"
      ],
      "text/plain": [
       "                       Validation_Message\n",
       "0  Validation Error: Missing Patient IDs."
      ]
     },
     "execution_count": 98,
     "metadata": {},
     "output_type": "execute_result"
    }
   ],
   "source": [
    "%%bigquery\n",
    "WITH query_result AS (SELECT * \n",
    "FROM healthverityproject.sampledataset5.healthverityproject_sampledataset5_sampledsetf\n",
    "WHERE patient_id IS NULL)\n",
    "##Filter for null patient ID, if > 0, return validation error. \n",
    "SELECT \n",
    " IF(COUNT(*) > 0, 'Validation Error: Missing Patient IDs.', 'Validation Pass: File has no missing values.') as Validation_Message from query_result"
   ]
  },
  {
   "cell_type": "markdown",
   "id": "65506141-44f8-4528-9dfc-b7d62165b5d8",
   "metadata": {},
   "source": [
    "**4.Referential - CPT Code Validation**"
   ]
  },
  {
   "cell_type": "code",
   "execution_count": 99,
   "id": "5b5dab37-6564-4056-8457-40ff37db403e",
   "metadata": {},
   "outputs": [
    {
     "name": "stderr",
     "output_type": "stream",
     "text": [
      "Query complete after 0.00s: 100%|██████████| 6/6 [00:00<00:00, 2144.69query/s]                        \n",
      "Downloading: 100%|██████████| 1/1 [00:01<00:00,  1.11s/rows]\n"
     ]
    },
    {
     "data": {
      "text/html": [
       "<div>\n",
       "<style scoped>\n",
       "    .dataframe tbody tr th:only-of-type {\n",
       "        vertical-align: middle;\n",
       "    }\n",
       "\n",
       "    .dataframe tbody tr th {\n",
       "        vertical-align: top;\n",
       "    }\n",
       "\n",
       "    .dataframe thead th {\n",
       "        text-align: right;\n",
       "    }\n",
       "</style>\n",
       "<table border=\"1\" class=\"dataframe\">\n",
       "  <thead>\n",
       "    <tr style=\"text-align: right;\">\n",
       "      <th></th>\n",
       "      <th>Validation_Message</th>\n",
       "    </tr>\n",
       "  </thead>\n",
       "  <tbody>\n",
       "    <tr>\n",
       "      <th>0</th>\n",
       "      <td>Validation Error: Referential Join by CPT Code.</td>\n",
       "    </tr>\n",
       "  </tbody>\n",
       "</table>\n",
       "</div>"
      ],
      "text/plain": [
       "                                Validation_Message\n",
       "0  Validation Error: Referential Join by CPT Code."
      ]
     },
     "execution_count": 99,
     "metadata": {},
     "output_type": "execute_result"
    }
   ],
   "source": [
    "%%bigquery\n",
    "WITH query_result AS (SELECT (x.joined_total_count/y.original_total_count)*100 as Percentage_of_validity\n",
    "FROM\n",
    "(SELECT COUNT(*) as joined_total_count\n",
    "    FROM healthverityproject.sampledataset5.healthverityproject_sampledataset5_sampledsetf master\n",
    " inner join healthverityproject.valid_cpt_codes.valid_cpt_codes cpt on cpt.code = master.procedure_code\n",
    "WHERE master.procedure_code IS NOT NULL ) x\n",
    "JOIN\n",
    "(SELECT COUNT(*) as original_total_count\n",
    "FROM healthverityproject.sampledataset5.healthverityproject_sampledataset5_sampledsetf) y\n",
    "on 1=1)\n",
    "#If Inner join results in a decrease in rowcount, return validation error. Values not successfully joining reference table. \n",
    "SELECT \n",
    " IF (Percentage_of_validity<100, 'Validation Error: Referential Join by CPT Code.', 'Validation Pass: Referential Join by CPT Code.') as Validation_Message from query_result"
   ]
  },
  {
   "cell_type": "markdown",
   "id": "0e9d7856-5cd1-4d89-b6a9-d9dd75e0d475",
   "metadata": {},
   "source": [
    "**5.Date Distribution - Chronological Order Validation**"
   ]
  },
  {
   "cell_type": "code",
   "execution_count": 100,
   "id": "c63dc64b-c663-4d48-819b-3d9ca00840a3",
   "metadata": {},
   "outputs": [
    {
     "name": "stderr",
     "output_type": "stream",
     "text": [
      "Query complete after 0.00s: 100%|██████████| 8/8 [00:00<00:00, 3176.90query/s]                        \n",
      "Downloading: 100%|██████████| 1/1 [00:00<00:00,  1.07rows/s]\n"
     ]
    },
    {
     "data": {
      "text/html": [
       "<div>\n",
       "<style scoped>\n",
       "    .dataframe tbody tr th:only-of-type {\n",
       "        vertical-align: middle;\n",
       "    }\n",
       "\n",
       "    .dataframe tbody tr th {\n",
       "        vertical-align: top;\n",
       "    }\n",
       "\n",
       "    .dataframe thead th {\n",
       "        text-align: right;\n",
       "    }\n",
       "</style>\n",
       "<table border=\"1\" class=\"dataframe\">\n",
       "  <thead>\n",
       "    <tr style=\"text-align: right;\">\n",
       "      <th></th>\n",
       "      <th>Validation_Message</th>\n",
       "    </tr>\n",
       "  </thead>\n",
       "  <tbody>\n",
       "    <tr>\n",
       "      <th>0</th>\n",
       "      <td>Validation Error: Dates not in chr. order.</td>\n",
       "    </tr>\n",
       "  </tbody>\n",
       "</table>\n",
       "</div>"
      ],
      "text/plain": [
       "                           Validation_Message\n",
       "0  Validation Error: Dates not in chr. order."
      ]
     },
     "execution_count": 100,
     "metadata": {},
     "output_type": "execute_result"
    }
   ],
   "source": [
    "%%bigquery\n",
    "WITH query_result AS (\n",
    "  SELECT date_received, \n",
    "         LAG(date_received) OVER (ORDER BY date_received) as previous_date ##compare each row with the row behind it\n",
    "  FROM healthverityproject.sampledataset5.healthverityproject_sampledataset5_sampledsetf\n",
    ")\n",
    "SELECT \n",
    "  IF(COUNT(*) = 0, 'Validation Error: Dates not in chr. order.', 'Validation Pass: Dates in chro. order.') as Validation_Message\n",
    "FROM query_result\n",
    "WHERE date_received < previous_date"
   ]
  },
  {
   "cell_type": "markdown",
   "id": "ab837954-795a-464c-a473-31639e855131",
   "metadata": {},
   "source": [
    "\n",
    "\n",
    "\n",
    "**Code:**\n",
    "\n",
    "Note that Code output below compiles the validation checks to produce a list of validation checks in a single table, per guidelines. "
   ]
  },
  {
   "cell_type": "code",
   "execution_count": 71,
   "id": "f34770b2-c117-47ed-ab41-4cba96c848fe",
   "metadata": {},
   "outputs": [
    {
     "name": "stderr",
     "output_type": "stream",
     "text": [
      "Query complete after 0.00s: 100%|██████████| 26/26 [00:00<00:00, 8811.56query/s]                       \n",
      "Downloading: 100%|██████████| 7/7 [00:01<00:00,  6.62rows/s]\n"
     ]
    },
    {
     "data": {
      "text/html": [
       "<div>\n",
       "<style scoped>\n",
       "    .dataframe tbody tr th:only-of-type {\n",
       "        vertical-align: middle;\n",
       "    }\n",
       "\n",
       "    .dataframe tbody tr th {\n",
       "        vertical-align: top;\n",
       "    }\n",
       "\n",
       "    .dataframe thead th {\n",
       "        text-align: right;\n",
       "    }\n",
       "</style>\n",
       "<table border=\"1\" class=\"dataframe\">\n",
       "  <thead>\n",
       "    <tr style=\"text-align: right;\">\n",
       "      <th></th>\n",
       "      <th>Validation_Message</th>\n",
       "    </tr>\n",
       "  </thead>\n",
       "  <tbody>\n",
       "    <tr>\n",
       "      <th>0</th>\n",
       "      <td>Validation Error: Missing ICD10 Codes.</td>\n",
       "    </tr>\n",
       "    <tr>\n",
       "      <th>1</th>\n",
       "      <td>Validation Error: Referential Join by CPT Code.</td>\n",
       "    </tr>\n",
       "    <tr>\n",
       "      <th>2</th>\n",
       "      <td>Validation Error: Duplicated Claim IDs.</td>\n",
       "    </tr>\n",
       "    <tr>\n",
       "      <th>3</th>\n",
       "      <td>Validation Error: Missing Patient IDs.</td>\n",
       "    </tr>\n",
       "    <tr>\n",
       "      <th>4</th>\n",
       "      <td>Validation Pass: No duplicate rows.</td>\n",
       "    </tr>\n",
       "    <tr>\n",
       "      <th>5</th>\n",
       "      <td>Validation Error: File fails date formatting.</td>\n",
       "    </tr>\n",
       "    <tr>\n",
       "      <th>6</th>\n",
       "      <td>Validation Error: Dates not in chr. order.</td>\n",
       "    </tr>\n",
       "  </tbody>\n",
       "</table>\n",
       "</div>"
      ],
      "text/plain": [
       "                                Validation_Message\n",
       "0           Validation Error: Missing ICD10 Codes.\n",
       "1  Validation Error: Referential Join by CPT Code.\n",
       "2          Validation Error: Duplicated Claim IDs.\n",
       "3           Validation Error: Missing Patient IDs.\n",
       "4              Validation Pass: No duplicate rows.\n",
       "5    Validation Error: File fails date formatting.\n",
       "6       Validation Error: Dates not in chr. order."
      ]
     },
     "execution_count": 71,
     "metadata": {},
     "output_type": "execute_result"
    }
   ],
   "source": [
    "%%bigquery\n",
    "\n",
    "#The following list of queries produce a single table containing all of the validation checks performed for this question.\n",
    "\n",
    "\n",
    "\n",
    "----\"Formatting - DATE\"--------\n",
    "#Check the date formatting. If the date does not meet the %Y-%d-%m format, return a validation fail. \n",
    "\n",
    "WITH query_result AS (\n",
    "SELECT * FROM healthverityproject.sampledataset5.healthverityproject_sampledataset5_sampledsetf\n",
    "WHERE PARSE_DATE('%Y-%d-%m', FORMAT_DATE('%Y-%d-%m', date_service)) IS NULL)\n",
    "SELECT \n",
    " IF(COUNT(*) > 0, 'Validation Error: File fails date formatting.', 'Validation Pass: File passes date formatting validation.') as Validation_Message from query_result\n",
    "UNION ALL   #Duplicate Overall Analysis. \n",
    "\n",
    "\n",
    "\n",
    "----\"Duplicates - Overall\"--------\n",
    "#Check if the file contains duplicate rows across the entire dataset. If there are duplicates, return a validation error. \n",
    "SELECT(\n",
    "WITH query_result AS (SELECT patient_id,claim_id,diagnosis_codes,procedure_code,date_service,date_received,count(*)\n",
    "FROM healthverityproject.sampledataset5.healthverityproject_sampledataset5_sampledsetf\n",
    "GROUP BY patient_id,claim_id,diagnosis_codes,procedure_code,date_service,date_received \n",
    "HAVING count(*) > 1)\n",
    "\n",
    "SELECT \n",
    " IF(COUNT(*) > 0, 'Validation Error: File contains duplicate rows.', 'Validation Pass: No duplicate rows.') as Validation_Message from query_result)\n",
    "UNION ALL\n",
    "\n",
    "\n",
    "\n",
    "----\"Duplicates - Claim ID\"--------\n",
    "#Check if the file contains duplicate claim IDs. If there are duplicate row IDs, return validation error. \n",
    "SELECT (WITH query_result AS (WITH duplicate_rows AS (\n",
    "  SELECT claim_id, \n",
    "    ROW_NUMBER() OVER (PARTITION BY claim_id ORDER BY claim_id) as row_number ##Ranks claim IDs. If duplicate, row_number > 1. \n",
    "  FROM healthverityproject.sampledataset5.healthverityproject_sampledataset5_sampledsetf)\n",
    "\n",
    "SELECT claim_id\n",
    "FROM duplicate_rows\n",
    "WHERE row_number > 1) ##Filter to return duplicate claim ID values. \n",
    "\n",
    "SELECT \n",
    " IF(COUNT(*) > 0, 'Validation Error: Duplicated Claim IDs.', 'Validation Pass: File has no duplicates.') as Validation_Message from query_result)\n",
    "\n",
    "UNION ALL \n",
    "\n",
    "\n",
    "\n",
    "----\"Missing values - Diagnosis Codes\"--------\n",
    "#Check for null diagnosis codes.\n",
    "\n",
    "SELECT (WITH query_result AS (SELECT * \n",
    "FROM healthverityproject.sampledataset5.healthverityproject_sampledataset5_sampledsetf\n",
    "WHERE diagnosis_codes IS NULL)\n",
    "##Filter for null diagnosis codes, if > 0, return validation error. \n",
    "SELECT \n",
    " IF(COUNT(*) > 0, 'Validation Error: Missing ICD10 Codes.', 'Validation Pass: File has no missing values.') as Validation_Message from query_result)\n",
    "\n",
    "UNION ALL \n",
    "\n",
    "\n",
    "\n",
    "----\"Missing values - Patient IDs\"--------\n",
    "#Check for null patient IDs. \n",
    "\n",
    "SELECT(WITH query_result AS (SELECT * \n",
    "FROM healthverityproject.sampledataset5.healthverityproject_sampledataset5_sampledsetf\n",
    "WHERE patient_id IS NULL)\n",
    "##Filter for null patient ID, if > 0, return validation error. \n",
    "SELECT \n",
    " IF(COUNT(*) > 0, 'Validation Error: Missing Patient IDs.', 'Validation Pass: File has no missing values.') as Validation_Message from query_result)\n",
    "\n",
    "UNION ALL \n",
    "\n",
    "\n",
    "\n",
    "\n",
    "----\"Referential Analysis - CPT Code\"--------\n",
    "#Referential Analysis - Check if join to CPT code table succcessfully works.If join is not a 1-1 match, return validation error.\n",
    "SELECT (WITH query_result AS (SELECT (x.joined_total_count/y.original_total_count)*100 as Percentage_of_validity\n",
    "FROM\n",
    "(SELECT COUNT(*) as joined_total_count\n",
    "    FROM healthverityproject.sampledataset5.healthverityproject_sampledataset5_sampledsetf master\n",
    " inner join healthverityproject.valid_cpt_codes.valid_cpt_codes cpt on cpt.code = master.procedure_code\n",
    "WHERE master.procedure_code IS NOT NULL ) x\n",
    "JOIN\n",
    "(SELECT COUNT(*) as original_total_count\n",
    "FROM healthverityproject.sampledataset5.healthverityproject_sampledataset5_sampledsetf) y\n",
    "on 1=1)\n",
    "#If Inner join results in a decrease in rowcount, return validation error. Values not successfully joining reference table. \n",
    "SELECT \n",
    " IF (Percentage_of_validity<100, 'Validation Error: Referential Join by CPT Code.', 'Validation Pass: Referential Join by CPT Code.') as Validation_Message from query_result)\n",
    "\n",
    "UNION ALL \n",
    "\n",
    "\n",
    "\n",
    "----\"Date Distribution - Chronological Order\"--------\n",
    "#First, we sort by date_received ascending. If there is a date gap, return an error. \n",
    "#Then, use the lag function to check for chronological order of dates in the dataset. \n",
    "SELECT(\n",
    "WITH query_result AS (\n",
    "  SELECT date_received, \n",
    "         LAG(date_received) OVER (ORDER BY date_received) as previous_date ##compare each row with the row behind it\n",
    "  FROM healthverityproject.sampledataset5.healthverityproject_sampledataset5_sampledsetf\n",
    ")\n",
    "SELECT \n",
    "  IF(COUNT(*) = 0, 'Validation Error: Dates not in chr. order.', 'Validation Pass: Dates in chro. order.') as Validation_Message\n",
    "FROM query_result\n",
    "WHERE date_received < previous_date)"
   ]
  },
  {
   "cell_type": "code",
   "execution_count": 69,
   "id": "3401b08e-c755-421d-81c1-51d6c2c6117a",
   "metadata": {},
   "outputs": [
    {
     "data": {
      "text/plain": [
       "Text(0, 0.5, 'Total Patients')"
      ]
     },
     "execution_count": 69,
     "metadata": {},
     "output_type": "execute_result"
    },
    {
     "data": {
      "image/png": "[encoded data removed]",
      "text/plain": [
       "<Figure size 640x480 with 1 Axes>"
      ]
     },
     "metadata": {},
     "output_type": "display_data"
    }
   ],
   "source": [
    "#Date - Trend in Chronological Order\n",
    "from google.cloud import bigquery\n",
    "import matplotlib.pyplot as plt\n",
    "\n",
    "#Leveraged Python's GCP BigQuery library to pull distinct patient_id, date_received and use matplotlib to produce a bar chart\n",
    "\n",
    "client = bigquery.Client()\n",
    "\n",
    "query = '''\n",
    "SELECT date_received, COUNT(DISTINCT patient_id) as total_patients\n",
    "FROM healthverityproject.sampledataset5.healthverityproject_sampledataset5_sampledsetf\n",
    "GROUP BY date_received\n",
    "ORDER BY date_received;\n",
    "'''\n",
    "\n",
    "results = client.query(query).to_dataframe()\n",
    "\n",
    "results.plot(x='date_received', y='total_patients', kind='bar')\n",
    "plt.title(\"Trend of Total Patients by Date Received\")\n",
    "plt.xlabel(\"Date Received\")\n",
    "plt.ylabel(\"Total Patients\")"
   ]
  }
 ],
 "metadata": {
  "kernelspec": {
   "display_name": "Python (Local)",
   "language": "python",
   "name": "local-base"
  },
  "language_info": {
   "codemirror_mode": {
    "name": "ipython",
    "version": 3
   },
   "file_extension": ".py",
   "mimetype": "text/x-python",
   "name": "python",
   "nbconvert_exporter": "python",
   "pygments_lexer": "ipython3",
   "version": "3.7.12"
  }
 },
 "nbformat": 4,
 "nbformat_minor": 5
}
